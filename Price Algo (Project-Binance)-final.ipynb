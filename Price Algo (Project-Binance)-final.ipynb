{
 "cells": [
  {
   "cell_type": "markdown",
   "id": "8e658feb",
   "metadata": {},
   "source": [
    "# Binance API Algorithm"
   ]
  },
  {
   "cell_type": "raw",
   "id": "de2bc7fd",
   "metadata": {},
   "source": [
    "TASKS: \n",
    "- organize and format (add heading explanations where necessary) BEFORE publishing - WIP\n",
    "- complete/remove tasks, Q&A, and other unnessesary notes before publishing\n",
    "- create function that will allow for indexing intervals (timestamps), see YT video\n"
   ]
  },
  {
   "cell_type": "raw",
   "id": "523f7bef",
   "metadata": {},
   "source": [
    "Sources\n",
    "\n",
    "- https://bit.ly/42HLG4a\n",
    "- https://bit.ly/48jkoCf\n",
    "- https://bit.ly/49dBqmw"
   ]
  },
  {
   "cell_type": "code",
   "execution_count": 3,
   "id": "644ac7fb",
   "metadata": {},
   "outputs": [],
   "source": [
    "# see Binance API: https://bit.ly/48jkoCf & https://bit.ly/49dBqmw\n",
    "\n",
    "import websocket\n",
    "import json\n",
    "import pandas as pd\n",
    "from binance.client import Client"
   ]
  },
  {
   "cell_type": "code",
   "execution_count": 4,
   "id": "c6ccbd74",
   "metadata": {},
   "outputs": [],
   "source": [
    "client = Client(tld=\"us\")\n",
    "\n",
    "info = client.get_exchange_info()\n",
    "\n",
    "# extract all symbol values (n[\"symbol\"]) by looping through exchange info (info[\"symbols\"])\n",
    "pairs = [n[\"symbol\"] for n in info[\"symbols\"] if n[\"symbol\"].endswith(\"USDT\")]\n",
    "\n",
    "pairs = [n.lower() + \"@kline_5m\" for n in pairs]\n",
    "\n",
    "list_pairs = \"/\".join(pairs)"
   ]
  },
  {
   "cell_type": "code",
   "execution_count": 5,
   "id": "13b5958a",
   "metadata": {},
   "outputs": [],
   "source": [
    "# Function 2: Convert client streams to dataframe\n",
    "\n",
    "def manipulate (data):\n",
    "    value = data[\"data\"][\"k\"]\n",
    "    price = value[\"c\"]\n",
    "    sym = value[\"s\"]\n",
    "    event_time = pd.to_datetime([data[\"data\"][\"E\"]], unit=\"ms\")\n",
    "    df = pd.DataFrame([[price, sym]], index=event_time)\n",
    "    return df"
   ]
  },
  {
   "cell_type": "code",
   "execution_count": 6,
   "id": "2761193f",
   "metadata": {},
   "outputs": [
    {
     "data": {
      "text/plain": [
       "True"
      ]
     },
     "execution_count": 6,
     "metadata": {},
     "output_type": "execute_result"
    }
   ],
   "source": [
    "# Function 1: Websocket client\n",
    "\n",
    "def on_message (wsapp, message):\n",
    "    json_message = json.loads(message)\n",
    "    dataframe = manipulate(json_message)\n",
    "    dataframe.to_csv(\"Pair-Prices.csv\", mode=\"a\", header=False)\n",
    "\n",
    "socket = \"wss://stream.binance.us:9443/stream?streams=\" + list_pairs\n",
    "\n",
    "wsapp = websocket.WebSocketApp(socket, on_message=on_message)\n",
    "\n",
    "wsapp.run_forever()"
   ]
  },
  {
   "cell_type": "code",
   "execution_count": 7,
   "id": "5ef8b558",
   "metadata": {},
   "outputs": [],
   "source": [
    "df = pd.read_csv(\"Pair-Prices.csv\", header=None)\n",
    "\n",
    "df.columns = [\"Timestamp\", \"Price\", \"Pair\"]"
   ]
  },
  {
   "cell_type": "code",
   "execution_count": 8,
   "id": "398534c7",
   "metadata": {
    "scrolled": true
   },
   "outputs": [],
   "source": [
    "# access single column\n",
    "btc_usdt = df[df.Pair == \"BTCUSDT\"]\n",
    "\n",
    "# sort values by column\n",
    "btc_usdt = btc_usdt.sort_values(\"Timestamp\")\n",
    "\n",
    "# set index to column values\n",
    "btc_usdt = btc_usdt.set_index(\"Timestamp\")"
   ]
  },
  {
   "cell_type": "code",
   "execution_count": 9,
   "id": "10c7e219",
   "metadata": {},
   "outputs": [
    {
     "data": {
      "text/html": [
       "<div>\n",
       "<style scoped>\n",
       "    .dataframe tbody tr th:only-of-type {\n",
       "        vertical-align: middle;\n",
       "    }\n",
       "\n",
       "    .dataframe tbody tr th {\n",
       "        vertical-align: top;\n",
       "    }\n",
       "\n",
       "    .dataframe thead th {\n",
       "        text-align: right;\n",
       "    }\n",
       "</style>\n",
       "<table border=\"1\" class=\"dataframe\">\n",
       "  <thead>\n",
       "    <tr style=\"text-align: right;\">\n",
       "      <th></th>\n",
       "      <th>Price</th>\n",
       "      <th>Pair</th>\n",
       "    </tr>\n",
       "    <tr>\n",
       "      <th>Timestamp</th>\n",
       "      <th></th>\n",
       "      <th></th>\n",
       "    </tr>\n",
       "  </thead>\n",
       "  <tbody>\n",
       "    <tr>\n",
       "      <th>2024-01-15 05:00:33.983</th>\n",
       "      <td>42500.68</td>\n",
       "      <td>BTCUSDT</td>\n",
       "    </tr>\n",
       "    <tr>\n",
       "      <th>2024-01-15 05:00:41.308</th>\n",
       "      <td>42500.68</td>\n",
       "      <td>BTCUSDT</td>\n",
       "    </tr>\n",
       "    <tr>\n",
       "      <th>2024-01-15 05:00:46.953</th>\n",
       "      <td>42500.68</td>\n",
       "      <td>BTCUSDT</td>\n",
       "    </tr>\n",
       "    <tr>\n",
       "      <th>2024-01-15 05:22:36.076</th>\n",
       "      <td>42592.88</td>\n",
       "      <td>BTCUSDT</td>\n",
       "    </tr>\n",
       "    <tr>\n",
       "      <th>2024-01-15 05:22:45.601</th>\n",
       "      <td>42568.24</td>\n",
       "      <td>BTCUSDT</td>\n",
       "    </tr>\n",
       "    <tr>\n",
       "      <th>...</th>\n",
       "      <td>...</td>\n",
       "      <td>...</td>\n",
       "    </tr>\n",
       "    <tr>\n",
       "      <th>2024-02-08 17:54:30.176</th>\n",
       "      <td>45162.28</td>\n",
       "      <td>BTCUSDT</td>\n",
       "    </tr>\n",
       "    <tr>\n",
       "      <th>2024-02-09 05:51:00.001</th>\n",
       "      <td>46203.69</td>\n",
       "      <td>BTCUSDT</td>\n",
       "    </tr>\n",
       "    <tr>\n",
       "      <th>2024-02-09 05:51:02.269</th>\n",
       "      <td>46203.69</td>\n",
       "      <td>BTCUSDT</td>\n",
       "    </tr>\n",
       "    <tr>\n",
       "      <th>2024-02-09 06:11:02.352</th>\n",
       "      <td>46196.10</td>\n",
       "      <td>BTCUSDT</td>\n",
       "    </tr>\n",
       "    <tr>\n",
       "      <th>2024-02-17 21:36:14.984</th>\n",
       "      <td>51921.07</td>\n",
       "      <td>BTCUSDT</td>\n",
       "    </tr>\n",
       "  </tbody>\n",
       "</table>\n",
       "<p>839 rows × 2 columns</p>\n",
       "</div>"
      ],
      "text/plain": [
       "                            Price     Pair\n",
       "Timestamp                                 \n",
       "2024-01-15 05:00:33.983  42500.68  BTCUSDT\n",
       "2024-01-15 05:00:41.308  42500.68  BTCUSDT\n",
       "2024-01-15 05:00:46.953  42500.68  BTCUSDT\n",
       "2024-01-15 05:22:36.076  42592.88  BTCUSDT\n",
       "2024-01-15 05:22:45.601  42568.24  BTCUSDT\n",
       "...                           ...      ...\n",
       "2024-02-08 17:54:30.176  45162.28  BTCUSDT\n",
       "2024-02-09 05:51:00.001  46203.69  BTCUSDT\n",
       "2024-02-09 05:51:02.269  46203.69  BTCUSDT\n",
       "2024-02-09 06:11:02.352  46196.10  BTCUSDT\n",
       "2024-02-17 21:36:14.984  51921.07  BTCUSDT\n",
       "\n",
       "[839 rows x 2 columns]"
      ]
     },
     "execution_count": 9,
     "metadata": {},
     "output_type": "execute_result"
    }
   ],
   "source": [
    "btc_usdt"
   ]
  },
  {
   "cell_type": "code",
   "execution_count": 251,
   "id": "51a64adc",
   "metadata": {
    "scrolled": true
   },
   "outputs": [
    {
     "data": {
      "text/plain": [
       "<AxesSubplot:xlabel='Timestamp'>"
      ]
     },
     "execution_count": 251,
     "metadata": {},
     "output_type": "execute_result"
    },
    {
     "data": {
      "image/png": "[encoded data removed]",
      "text/plain": [
       "<Figure size 432x288 with 1 Axes>"
      ]
     },
     "metadata": {
      "needs_background": "light"
     },
     "output_type": "display_data"
    }
   ],
   "source": [
    "btc_usdt.set_index(\"Timestamp\").Price.plot()"
   ]
  },
  {
   "cell_type": "code",
   "execution_count": 252,
   "id": "784cfe79",
   "metadata": {},
   "outputs": [],
   "source": [
    "# Function #3 - access price changes of each Pair\n",
    "def analyze(Pair):\n",
    "    frame = df[df.Pair == Pair]\n",
    "    frame = frame.sort_values(\"Timestamp\")\n",
    "    frame = frame.set_index(\"Timestamp\")\n",
    "    \n",
    "    # Formula for Rate of Return\n",
    "    frame = frame.Price[-1] / frame.Price[0] - 1 # divide last and first indexed \"Price\" value\n",
    "    #return \"{:.2%}\".format(frame)\n",
    "    return frame * 100"
   ]
  },
  {
   "cell_type": "code",
   "execution_count": 253,
   "id": "4249b4d0",
   "metadata": {},
   "outputs": [
    {
     "data": {
      "text/plain": [
       "8.694966762884725"
      ]
     },
     "execution_count": 253,
     "metadata": {},
     "output_type": "execute_result"
    }
   ],
   "source": [
    "analyze(\"BTCUSDT\")"
   ]
  },
  {
   "cell_type": "code",
   "execution_count": 254,
   "id": "adb7ee1e",
   "metadata": {},
   "outputs": [],
   "source": [
    "# access all data from \"Pairs\" column, placed in array format\n",
    "uq = df.Pair.unique()\n",
    "\n",
    "returns = []\n",
    "\n",
    "df = pd.read_csv(\"Pair-Prices.csv\", header=None)\n",
    "df.columns = [\"Timestamp\", \"Price\", \"Pair\"]\n",
    "\n",
    "for Pair in uq:\n",
    "    returns.append(analyze(Pair))"
   ]
  },
  {
   "cell_type": "code",
   "execution_count": 255,
   "id": "9e78a0bb",
   "metadata": {
    "scrolled": true
   },
   "outputs": [],
   "source": [
    "#returns"
   ]
  },
  {
   "cell_type": "code",
   "execution_count": 256,
   "id": "13a4d173",
   "metadata": {},
   "outputs": [],
   "source": [
    "#pd.Series creates a column-like structure, using \"index\" values name for each row\n",
    "series = pd.Series(returns, index = uq)"
   ]
  },
  {
   "cell_type": "code",
   "execution_count": 257,
   "id": "c8e2264f",
   "metadata": {},
   "outputs": [
    {
     "data": {
      "text/plain": [
       "EGLDUSDT      -0.664820\n",
       "BTCUSDT        8.694967\n",
       "LINKUSDT      17.574353\n",
       "VTHOUSDT     168.908297\n",
       "AVAXUSDT      -0.690417\n",
       "                ...    \n",
       "CUDOSUSDT     18.339921\n",
       "ADXUSDT        4.674556\n",
       "FORTUSDT      -1.421405\n",
       "SUIUSDT       13.241746\n",
       "ONGUSDT        3.626772\n",
       "Length: 157, dtype: float64"
      ]
     },
     "execution_count": 257,
     "metadata": {},
     "output_type": "execute_result"
    }
   ],
   "source": [
    "series"
   ]
  },
  {
   "cell_type": "code",
   "execution_count": 258,
   "id": "87080cf3",
   "metadata": {
    "scrolled": false
   },
   "outputs": [
    {
     "data": {
      "text/plain": [
       "1INCHUSDT   -11.264657\n",
       "GALAUSDT    -11.226054\n",
       "BTRSTUSDT   -10.958904\n",
       "API3USDT    -10.398360\n",
       "RLCUSDT      -8.243579\n",
       "dtype: float64"
      ]
     },
     "execution_count": 258,
     "metadata": {},
     "output_type": "execute_result"
    }
   ],
   "source": [
    "series.nsmallest(5)"
   ]
  },
  {
   "cell_type": "code",
   "execution_count": null,
   "id": "ee53b3f5",
   "metadata": {},
   "outputs": [],
   "source": []
  }
 ],
 "metadata": {
  "kernelspec": {
   "display_name": "Python 3 (ipykernel)",
   "language": "python",
   "name": "python3"
  },
  "language_info": {
   "codemirror_mode": {
    "name": "ipython",
    "version": 3
   },
   "file_extension": ".py",
   "mimetype": "text/x-python",
   "name": "python",
   "nbconvert_exporter": "python",
   "pygments_lexer": "ipython3",
   "version": "3.9.5"
  }
 },
 "nbformat": 4,
 "nbformat_minor": 5
}
