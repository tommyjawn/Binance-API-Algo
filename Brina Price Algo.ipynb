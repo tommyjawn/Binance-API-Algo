{
 "cells": [
  {
   "cell_type": "markdown",
   "id": "8e658feb",
   "metadata": {},
   "source": [
    "# Binance API Algorithm"
   ]
  },
  {
   "cell_type": "code",
   "execution_count": 57,
   "id": "5cbd0c17",
   "metadata": {},
   "outputs": [],
   "source": [
    "# Sources\n",
    "\n",
    "# https://bit.ly/42HLG4a\n",
    "# https://bit.ly/48jkoCf\n",
    "# https://bit.ly/49dBqmw"
   ]
  },
  {
   "cell_type": "code",
   "execution_count": 58,
   "id": "644ac7fb",
   "metadata": {},
   "outputs": [],
   "source": [
    "import websocket\n",
    "import json\n",
    "import pandas as pd\n",
    "from binance.client import Client"
   ]
  },
  {
   "cell_type": "code",
   "execution_count": 59,
   "id": "c6ccbd74",
   "metadata": {},
   "outputs": [],
   "source": [
    "client = Client(tld=\"us\")\n",
    "\n",
    "info = client.get_exchange_info()\n",
    "\n",
    "# extract all symbol values (n[\"symbol\"]) by looping through exchange info (info[\"symbols\"])\n",
    "pairs = [n[\"symbol\"] for n in info[\"symbols\"] if n[\"symbol\"].endswith(\"USDT\")]\n",
    "\n",
    "pairs = [n.lower() + \"@kline_5m\" for n in pairs]\n",
    "\n",
    "list_pairs = \"/\".join(pairs)"
   ]
  },
  {
   "cell_type": "code",
   "execution_count": 60,
   "id": "13b5958a",
   "metadata": {},
   "outputs": [],
   "source": [
    "# Function 2: Convert client streams to dataframe\n",
    "\n",
    "def manipulate (data):\n",
    "    value = data[\"data\"][\"k\"]\n",
    "    price = value[\"c\"]\n",
    "    sym = value[\"s\"]\n",
    "    event_time = pd.to_datetime([data[\"data\"][\"E\"]], unit=\"ms\")\n",
    "    df = pd.DataFrame([[price, sym]], index=event_time)\n",
    "    return df"
   ]
  },
  {
   "cell_type": "code",
   "execution_count": 61,
   "id": "2761193f",
   "metadata": {},
   "outputs": [
    {
     "data": {
      "text/plain": [
       "True"
      ]
     },
     "execution_count": 61,
     "metadata": {},
     "output_type": "execute_result"
    }
   ],
   "source": [
    "# Function 1: Websocket client\n",
    "\n",
    "def on_message (wsapp, message):\n",
    "    json_message = json.loads(message)\n",
    "    dataframe = manipulate(json_message)\n",
    "    dataframe.to_csv(\"Pair-Prices.csv\", mode=\"a\", header=False)\n",
    "\n",
    "socket = \"wss://stream.binance.us:9443/stream?streams=\" + list_pairs\n",
    "\n",
    "wsapp = websocket.WebSocketApp(socket, on_message=on_message)\n",
    "\n",
    "wsapp.run_forever()"
   ]
  },
  {
   "cell_type": "code",
   "execution_count": 62,
   "id": "5ef8b558",
   "metadata": {},
   "outputs": [],
   "source": [
    "df = pd.read_csv(\"Pair-Prices.csv\", header=None)\n",
    "\n",
    "df.columns = [\"Timestamp\", \"Price\", \"Pair\"]"
   ]
  },
  {
   "cell_type": "code",
   "execution_count": 86,
   "id": "398534c7",
   "metadata": {
    "scrolled": true
   },
   "outputs": [],
   "source": [
    "# access single column\n",
    "col = df[df.Pair == \"RNDRUSDT\"]\n",
    "\n",
    "# sort values by column\n",
    "col = col.sort_values(\"Timestamp\")\n",
    "\n",
    "# set index to column values\n",
    "col = col.set_index(\"Timestamp\")"
   ]
  },
  {
   "cell_type": "code",
   "execution_count": 87,
   "id": "10c7e219",
   "metadata": {
    "scrolled": true
   },
   "outputs": [],
   "source": [
    "#df"
   ]
  },
  {
   "cell_type": "code",
   "execution_count": 88,
   "id": "51a64adc",
   "metadata": {
    "scrolled": true
   },
   "outputs": [
    {
     "data": {
      "text/plain": [
       "<AxesSubplot:xlabel='Timestamp'>"
      ]
     },
     "execution_count": 88,
     "metadata": {},
     "output_type": "execute_result"
    },
    {
     "data": {
      "image/png": "[encoded data removed]",
      "text/plain": [
       "<Figure size 432x288 with 1 Axes>"
      ]
     },
     "metadata": {
      "needs_background": "light"
     },
     "output_type": "display_data"
    }
   ],
   "source": [
    "col.Price.plot()"
   ]
  },
  {
   "cell_type": "code",
   "execution_count": 74,
   "id": "784cfe79",
   "metadata": {},
   "outputs": [],
   "source": [
    "# Function #3 - access price changes of each Pair\n",
    "def analyze(Pair):\n",
    "    frame = df[df.Pair == Pair]\n",
    "    frame = frame.sort_values(\"Timestamp\")\n",
    "    frame = frame.set_index(\"Timestamp\")\n",
    "    \n",
    "    # Formula for Rate of Return\n",
    "    frame = frame.Price[-1] / frame.Price[0] - 1 # divide last and first indexed \"Price\" value\n",
    "    #return \"{:.2%}\".format(frame)\n",
    "    return frame * 100"
   ]
  },
  {
   "cell_type": "code",
   "execution_count": 85,
   "id": "4249b4d0",
   "metadata": {},
   "outputs": [],
   "source": [
    "analyze(\"RNDRUSDT\")"
   ]
  },
  {
   "cell_type": "code",
   "execution_count": 76,
   "id": "adb7ee1e",
   "metadata": {},
   "outputs": [],
   "source": [
    "# access all data from \"Pairs\" column, placed in array format\n",
    "uq = df.Pair.unique()\n",
    "\n",
    "returns = []\n",
    "\n",
    "df = pd.read_csv(\"Pair-Prices.csv\", header=None)\n",
    "df.columns = [\"Timestamp\", \"Price\", \"Pair\"]\n",
    "\n",
    "for Pair in uq:\n",
    "    returns.append(analyze(Pair))"
   ]
  },
  {
   "cell_type": "code",
   "execution_count": 81,
   "id": "9e78a0bb",
   "metadata": {
    "scrolled": false
   },
   "outputs": [],
   "source": [
    "returns"
   ]
  },
  {
   "cell_type": "code",
   "execution_count": 53,
   "id": "13a4d173",
   "metadata": {},
   "outputs": [],
   "source": [
    "# pd.Series creates a column-like structure, using \"index\" values name for each row\n",
    "series = pd.Series(returns, index = uq)"
   ]
  },
  {
   "cell_type": "code",
   "execution_count": 82,
   "id": "c8e2264f",
   "metadata": {
    "scrolled": false
   },
   "outputs": [],
   "source": [
    "series"
   ]
  },
  {
   "cell_type": "code",
   "execution_count": 83,
   "id": "c7c53a08",
   "metadata": {},
   "outputs": [],
   "source": [
    "series.nlargest(5)"
   ]
  },
  {
   "cell_type": "code",
   "execution_count": 84,
   "id": "87080cf3",
   "metadata": {
    "scrolled": false
   },
   "outputs": [],
   "source": [
    "series.nsmallest(5)"
   ]
  }
 ],
 "metadata": {
  "kernelspec": {
   "display_name": "Python 3 (ipykernel)",
   "language": "python",
   "name": "python3"
  },
  "language_info": {
   "codemirror_mode": {
    "name": "ipython",
    "version": 3
   },
   "file_extension": ".py",
   "mimetype": "text/x-python",
   "name": "python",
   "nbconvert_exporter": "python",
   "pygments_lexer": "ipython3",
   "version": "3.9.5"
  }
 },
 "nbformat": 4,
 "nbformat_minor": 5
}
